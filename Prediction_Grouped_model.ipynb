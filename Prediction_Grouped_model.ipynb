{
 "cells": [
  {
   "cell_type": "code",
   "execution_count": 1,
   "metadata": {},
   "outputs": [],
   "source": [
    "import copy\n",
    "from pathlib import Path\n",
    "import warnings\n",
    "import random\n",
    "\n",
    "import numpy as np\n",
    "import pandas as pd\n",
    "import pytorch_lightning as pl\n",
    "from pytorch_lightning.callbacks import EarlyStopping, LearningRateMonitor\n",
    "from pytorch_lightning.loggers import TensorBoardLogger\n",
    "import torch\n",
    "\n",
    "import matplotlib.pyplot as plt\n",
    "\n",
    "from pytorch_forecasting import Baseline, TemporalFusionTransformer, TimeSeriesDataSet\n",
    "from pytorch_forecasting.data import GroupNormalizer\n",
    "from pytorch_forecasting.metrics import SMAPE, PoissonLoss, QuantileLoss\n",
    "from pytorch_forecasting.models.temporal_fusion_transformer.tuning import optimize_hyperparameters"
   ]
  },
  {
   "cell_type": "code",
   "execution_count": 2,
   "metadata": {},
   "outputs": [],
   "source": [
    "# input_length = 168\n",
    "# output_length = 24\n",
    "\n",
    "input_length = 336\n",
    "output_length = 168\n",
    "\n",
    "show_graph = False"
   ]
  },
  {
   "cell_type": "code",
   "execution_count": 3,
   "metadata": {},
   "outputs": [],
   "source": [
    "# Group 3\n",
    "model_paths = [ \"Save_File/Group3_1/A.ckpt\",\n",
    "                \"Save_File/Group3_1/B.ckpt\",\n",
    "                \"Save_File/Group3_1/C.ckpt\",\n",
    "                \"Save_File/Group3_1/D.ckpt\",\n",
    "                \"Save_File/Group3_1/E.ckpt\",\n",
    "                ]\n",
    "\n",
    "group_name = [\"A\", \"B\", \"C\", \"D\", \"E\"]\n",
    "\n",
    "group = [\n",
    "    [34, 40, 42, 41, 4, 10, 11, 12],\n",
    "    [35, 6, 48, 27, 57, 8, 25, 56, 26, 55, 47, 13, 53, 18, 7, 17, 46],\n",
    "    [31, 33, 9, 3, 1, 32],\n",
    "    [29, 38, 43, 58, 15, 22, 39, 54, 23, 44, 45, 37, 52, 2, 14],\n",
    "    [21, 19, 50, 49, 20, 51, 30, 36, 28, 59, 5, 60, 16, 24]\n",
    "]\n",
    "\n",
    "data_path = \"./Refined_Data/Grouped_Data/Input_Data2.csv\""
   ]
  },
  {
   "cell_type": "code",
   "execution_count": 4,
   "metadata": {},
   "outputs": [],
   "source": [
    "dataframes = pd.read_csv(data_path, parse_dates = [\"date_time\"])\n",
    "\n",
    "dataframes['num']     =   dataframes['num'].apply(str)\n",
    "dataframes['day_of_Week']     =   dataframes['day_of_Week'].apply(str)\n",
    "dataframes['day_of_month']    =   dataframes['day_of_month'].apply(str)\n",
    "dataframes['24Hour']  =   dataframes['24Hour'].apply(str)\n",
    "dataframes['holiday'] =   dataframes['holiday'].apply(str)\n",
    "dataframes['Weekend'] =   dataframes['Weekend'].apply(str)\n",
    "dataframes['energy_group'] = dataframes['energy_group'].apply(str)\n",
    "dataframes['hour_cat']=   dataframes['hour_cat'].apply(str)\n",
    "# dataframes['discomfort_index'] = dataframes['discomfort_index'].apply(str)\n",
    "\n",
    "def smape(A, F):\n",
    "    return 100/len(A) * np.sum(2 * np.abs(F - A) / (np.abs(A) + np.abs(F) + 1e-10))\n",
    "\n",
    "all_smape = []\n",
    "part_smape = [[] for i in range(len(group_name))]"
   ]
  },
  {
   "cell_type": "code",
   "execution_count": 5,
   "metadata": {},
   "outputs": [],
   "source": [
    "random_choice = 3 # random.randrange(3,12)\n",
    "\n",
    "start_point = -168 * random_choice - 1\n",
    "duration = 168"
   ]
  },
  {
   "cell_type": "code",
   "execution_count": 6,
   "metadata": {
    "tags": []
   },
   "outputs": [
    {
     "output_type": "stream",
     "name": "stdout",
     "text": [
      "now group : A\n",
      "building : 4, score : 10.750062809341822\n",
      "building : 10, score : 5.729658772495867\n",
      "building : 11, score : 2.9488910472691994\n",
      "building : 12, score : 3.2610781121521635\n",
      "building : 34, score : 8.452672703287698\n",
      "building : 40, score : 7.348116358478456\n",
      "building : 41, score : 4.366999327535458\n",
      "building : 42, score : 6.504465947088189\n",
      "now group : B\n",
      "building : 6, score : 2.7443194193980114\n",
      "building : 7, score : 3.7503283164704184\n",
      "building : 8, score : 3.4840772625533156\n",
      "building : 13, score : 1.5269171843040943\n",
      "building : 17, score : 2.6233336848180153\n",
      "building : 18, score : 4.6984500101058435\n",
      "building : 25, score : 5.865577447680843\n",
      "building : 26, score : 1.4842573956166931\n",
      "building : 27, score : 4.656374837354462\n",
      "building : 35, score : 6.136624767403066\n",
      "building : 46, score : 3.229610712826472\n",
      "building : 47, score : 1.6376684077947692\n",
      "building : 48, score : 8.289445331497392\n",
      "building : 53, score : 1.5164019832519664\n",
      "building : 55, score : 4.268643078589785\n",
      "building : 56, score : 4.686417382765385\n",
      "building : 57, score : 4.768429240601464\n",
      "now group : C\n",
      "building : 1, score : 0.28006068439665066\n",
      "building : 3, score : 0.7714487355923476\n",
      "building : 9, score : 1.2327492187237912\n",
      "building : 31, score : 0.4608773252221131\n",
      "building : 32, score : 0.28275935882269027\n",
      "building : 33, score : 0.47851765374788596\n",
      "now group : D\n",
      "building : 2, score : 1.5471532177521\n",
      "building : 14, score : 1.932723479742071\n",
      "building : 15, score : 4.00999299162118\n",
      "building : 22, score : 2.1005065391793183\n",
      "building : 23, score : 5.411967022047904\n",
      "building : 29, score : 5.548884661348516\n",
      "building : 37, score : 2.206095851337841\n",
      "building : 38, score : 1.9105692836317463\n",
      "building : 39, score : 3.89423533455692\n",
      "building : 43, score : 2.4398112801193306\n",
      "building : 44, score : 1.831447153442006\n",
      "building : 45, score : 2.9627676045352254\n",
      "building : 52, score : 1.3929219794005172\n",
      "building : 54, score : 2.216358881084809\n",
      "building : 58, score : 1.9262430740575667\n",
      "now group : E\n",
      "building : 5, score : 4.390009612694764\n",
      "building : 16, score : 1.9397589473502022\n",
      "building : 19, score : 5.383931719064682\n",
      "building : 20, score : 2.845658359963162\n",
      "building : 21, score : 2.1199487417882894\n",
      "building : 24, score : 2.001597688584414\n",
      "building : 28, score : 2.4859410991307906\n",
      "building : 30, score : 4.024445990527941\n",
      "building : 36, score : 2.3438033713823447\n",
      "building : 49, score : 2.909183163797249\n",
      "building : 50, score : 3.630015901955363\n",
      "building : 51, score : 2.560463837964162\n",
      "building : 59, score : 6.569448401111205\n",
      "building : 60, score : 1.9003641604865262\n"
     ]
    }
   ],
   "source": [
    "for i in range(len(model_paths)):\n",
    "\n",
    "    print(f\"now group : {group_name[i]}\")\n",
    "\n",
    "    for building in sorted(group[i]):\n",
    "        now_building_dataframe = dataframes.loc[dataframes[\"num\"] == str(building)].copy()\n",
    "        now_building_dataframe = now_building_dataframe[start_point:start_point+input_length+duration]\n",
    "\n",
    "        now_best_tft = TemporalFusionTransformer.load_from_checkpoint(model_paths[i])\n",
    "\n",
    "        original = now_building_dataframe.iloc[0:input_length][\"kWH\"].tolist()\n",
    "        prediction = now_building_dataframe.iloc[0:input_length][\"kWH\"].tolist()  \n",
    "\n",
    "        total_cycle = ((len(now_building_dataframe) - input_length - output_length) // output_length) + 1\n",
    "\n",
    "        for k in range(total_cycle):\n",
    "            now_start_point = k*output_length\n",
    "\n",
    "            encoder_data = now_building_dataframe.iloc[now_start_point:now_start_point+input_length].copy()\n",
    "            decoder_data = now_building_dataframe.iloc[now_start_point+input_length:now_start_point+input_length+output_length].copy()\n",
    "            new_prediction_data = pd.concat([encoder_data, decoder_data], ignore_index=True)\n",
    "\n",
    "            raw_predictions = now_best_tft.predict(new_prediction_data, mode=\"prediction\").numpy().tolist()[0]\n",
    "            originals = now_building_dataframe.iloc[now_start_point+input_length : now_start_point+input_length+output_length][\"kWH\"].tolist()\n",
    "\n",
    "            prediction.extend(raw_predictions)\n",
    "            original.extend(originals)\n",
    "\n",
    "            # for next step, change dataframe's original value to predicted value\n",
    "            for p in range(output_length):\n",
    "                now_building_dataframe.iloc[now_start_point+input_length+p, now_building_dataframe.columns.get_loc(\"kWH\")] = raw_predictions[p]\n",
    "            \n",
    "        if show_graph:\n",
    "            plt.rcParams[\"figure.figsize\"] = (17,5)\n",
    "            fig = plt.figure()\n",
    "            graph = fig.add_subplot(1, 1, 1)\n",
    "            graph.plot(prediction, color='blue')\n",
    "            graph.plot(original, color='red')\n",
    "            plt.show()\n",
    "\n",
    "        smape_loss = smape(np.array(prediction[168:]), np.array(original[168:]))\n",
    "        print(f\"building : {building}, score : {smape_loss}\")\n",
    "        all_smape.append(smape_loss)\n",
    "        part_smape[i].append(smape_loss)\n",
    "\n",
    "        # break\n",
    "    # break"
   ]
  },
  {
   "cell_type": "code",
   "execution_count": 7,
   "metadata": {},
   "outputs": [
    {
     "output_type": "stream",
     "name": "stdout",
     "text": [
      "selected time slice : 3\ntotoal score : 3.4111913977807418\nA score (8) : 6.170243134706106\nB score (17) : 3.845110380178353\nC score (6) : 0.5844021627509132\nD score (15) : 2.75544522359047\nE score (14) : 3.221755071128649\n"
     ]
    }
   ],
   "source": [
    "print(f\"selected time slice : {random_choice}\")\n",
    "print(f\"totoal score : {np.mean(np.array(all_smape))}\")\n",
    "for i in range(len(group_name)):\n",
    "    print(f\"{group_name[i]} score ({len(group[i])}) : {np.mean(np.array(part_smape[i]))}\")"
   ]
  }
 ],
 "metadata": {
  "kernelspec": {
   "name": "python391jvsc74a57bd02625b230b0936c03a7a859dabe4a10a429313c958b60e79e367b6eadd1f82f0b",
   "display_name": "Python 3.9.1 64-bit ('torch1': conda)"
  },
  "language_info": {
   "codemirror_mode": {
    "name": "ipython",
    "version": 3
   },
   "file_extension": ".py",
   "mimetype": "text/x-python",
   "name": "python",
   "nbconvert_exporter": "python",
   "pygments_lexer": "ipython3",
   "version": "3.9.1"
  },
  "orig_nbformat": 2
 },
 "nbformat": 4,
 "nbformat_minor": 2
}