{
 "cells": [
  {
   "cell_type": "code",
   "execution_count": 1,
   "metadata": {},
   "outputs": [],
   "source": [
    "import pandas as pd\n",
    "import numpy as np\n",
    "\n",
    "import torch\n",
    "\n",
    "import pytorch_lightning as pl\n",
    "from pytorch_lightning.callbacks import EarlyStopping, LearningRateMonitor\n",
    "from pytorch_lightning.loggers import TensorBoardLogger\n",
    "\n",
    "from pytorch_forecasting import Baseline, TemporalFusionTransformer, TimeSeriesDataSet\n",
    "from pytorch_forecasting.data import GroupNormalizer\n",
    "from pytorch_forecasting.metrics import SMAPE, PoissonLoss, QuantileLoss, MultiHorizonMetric\n",
    "from pytorch_forecasting.models.temporal_fusion_transformer.tuning import optimize_hyperparameters"
   ]
  },
  {
   "cell_type": "code",
   "execution_count": 2,
   "metadata": {},
   "outputs": [],
   "source": [
    "data_path = \"./Refined_Data/Grouped_Data/Input_Data2.csv\"\r\n",
    "\r\n",
    "group = [\r\n",
    "    [4],[11, 12],[34],[40],[10],[42],[41]                                   # 0~ 6\r\n",
    "    ,[6, 8, 13, 17, 26, 48, 53, 55, 56],[7, 18],[27, 57],[35, 46, 47],[25]  # 7 ~ 11\r\n",
    "    ,[1, 31],[9, 32],[3],[33]                                               # 12 ~ 15\r\n",
    "    ,[2, 14, 22, 37, 44, 52, 54],[15],[38, 58, 43],[29, 39],[45],[23]       # 16 ~ 21\r\n",
    "    ,[5],[16, 24],[19, 20, 21, 49, 50, 51],[28, 36, 60],[59], [30]          # 22 ~ 27\r\n",
    "]"
   ]
  },
  {
   "cell_type": "code",
   "execution_count": 3,
   "metadata": {
    "tags": []
   },
   "outputs": [],
   "source": [
    "data = pd.read_csv(data_path, parse_dates = [\"date_time\"])\r\n",
    "\r\n",
    "data['num']     =   data['num'].apply(str)\r\n",
    "data['day_of_Week']     =   data['day_of_Week'].apply(str)\r\n",
    "data['day_of_month']    =   data['day_of_month'].apply(str)\r\n",
    "data['24Hour']  =   data['24Hour'].apply(str)\r\n",
    "data['holiday'] =   data['holiday'].apply(str)\r\n",
    "data['Weekend'] =   data['Weekend'].apply(str)\r\n",
    "data['energy_group'] = data['energy_group'].apply(str)\r\n",
    "data['hour_cat']=   data['hour_cat'].apply(str)"
   ]
  },
  {
   "cell_type": "code",
   "execution_count": 4,
   "metadata": {},
   "outputs": [],
   "source": [
    "data_bag = [data.loc[data[\"energy_group\"] == str(i)].copy() for i in range(len(group))]\r\n",
    "\r\n",
    "models = []"
   ]
  },
  {
   "cell_type": "code",
   "execution_count": 5,
   "metadata": {
    "tags": []
   },
   "outputs": [
    {
     "name": "stdout",
     "output_type": "stream",
     "text": [
      "[4]\n"
     ]
    },
    {
     "name": "stderr",
     "output_type": "stream",
     "text": [
      "GPU available: True, used: True\n",
      "TPU available: False, using: 0 TPU cores\n",
      "LOCAL_RANK: 0 - CUDA_VISIBLE_DEVICES: [0]\n"
     ]
    }
   ],
   "source": [
    "for idx in range(0, 28):    \r\n",
    "\r\n",
    "    print(group[idx])\r\n",
    "\r\n",
    "    data = data_bag[idx]\r\n",
    "\r\n",
    "    torch.cuda.empty_cache()\r\n",
    "\r\n",
    "    max_prediction_length = 168\r\n",
    "    max_encoder_length = 336\r\n",
    "    training_cutoff = data[\"time_idx\"].max() - max_prediction_length\r\n",
    "\r\n",
    "    training = TimeSeriesDataSet(\r\n",
    "        data[lambda x: x.time_idx <= training_cutoff],\r\n",
    "        time_idx=\"time_idx\",\r\n",
    "        target=\"kWH\",\r\n",
    "        group_ids=[\"num\"],\r\n",
    "        min_encoder_length=max_encoder_length,\r\n",
    "        max_encoder_length=max_encoder_length,\r\n",
    "        min_prediction_length=max_prediction_length,\r\n",
    "        max_prediction_length=max_prediction_length,\r\n",
    "        static_categoricals=[\"num\", \"energy_group\"],\r\n",
    "        static_reals=[\"non_electric_aircondition\", \"sunlight\"],\r\n",
    "        time_varying_known_categoricals=[\"day_of_Week\", \"day_of_month\", \"24Hour\", \"holiday\", \"Weekend\", \"hour_cat\"],\r\n",
    "        time_varying_known_reals=[\"C\", \"m/s\", \"wet\", \"mm\", \"hr\", \"time_idx\", \"day\", \"Week\", \"perceived_temperature\", \"discomfort_index\"],\r\n",
    "        time_varying_unknown_categoricals=[],\r\n",
    "        time_varying_unknown_reals=[\"kWH\"],\r\n",
    "        add_relative_time_idx=True,\r\n",
    "        add_target_scales=True,\r\n",
    "        add_encoder_length=True\r\n",
    "    )\r\n",
    "\r\n",
    "    validation = TimeSeriesDataSet.from_dataset(training, data, predict=True, stop_randomization=True)\r\n",
    "\r\n",
    "    batch_size = 64  # set this between 32 to 128\r\n",
    "    train_dataloader = training.to_dataloader(train=True, batch_size=batch_size, num_workers=8)\r\n",
    "    val_dataloader = validation.to_dataloader(train=False, batch_size=batch_size * 10, num_workers=1)\r\n",
    "\r\n",
    "    early_stop_callback = EarlyStopping(monitor=\"val_loss\", min_delta=1e-4, patience=10, verbose=False, mode=\"min\")\r\n",
    "    lr_logger = LearningRateMonitor()  # log the learning rate\r\n",
    "    logger = TensorBoardLogger(\"lightning_logs\")  # logging results to a tensorboard\r\n",
    "\r\n",
    "    trainer = pl.Trainer(\r\n",
    "        max_epochs=500,\r\n",
    "        gpus=1,\r\n",
    "        weights_summary=\"top\",\r\n",
    "        gradient_clip_val=0.1,\r\n",
    "        limit_train_batches=10, \r\n",
    "        callbacks=[lr_logger, early_stop_callback],\r\n",
    "        logger=logger,\r\n",
    "    )\r\n",
    "\r\n",
    "\r\n",
    "    tft = TemporalFusionTransformer.from_dataset(\r\n",
    "        training,\r\n",
    "        learning_rate=0.03,\r\n",
    "        hidden_size=64,\r\n",
    "        lstm_layers = 1,\r\n",
    "        attention_head_size=4,\r\n",
    "        dropout=0.15,\r\n",
    "        hidden_continuous_size=8,\r\n",
    "        output_size=1,\r\n",
    "        loss=SMAPE(),\r\n",
    "        log_interval=0,\r\n",
    "        reduce_on_plateau_patience=4,\r\n",
    "    )\r\n",
    "\r\n",
    "    # fit network\r\n",
    "    trainer.fit(\r\n",
    "        tft,\r\n",
    "        train_dataloader=train_dataloader,\r\n",
    "        val_dataloaders=val_dataloader,\r\n",
    "    )"
   ]
  }
 ],
 "metadata": {
  "kernelspec": {
   "display_name": "Python 3.9.1 64-bit ('torch1': conda)",
   "name": "python391jvsc74a57bd02625b230b0936c03a7a859dabe4a10a429313c958b60e79e367b6eadd1f82f0b"
  },
  "language_info": {
   "codemirror_mode": {
    "name": "ipython",
    "version": 3
   },
   "file_extension": ".py",
   "mimetype": "text/x-python",
   "name": "python",
   "nbconvert_exporter": "python",
   "pygments_lexer": "ipython3",
   "version": "3.9.1"
  },
  "orig_nbformat": 2
 },
 "nbformat": 4,
 "nbformat_minor": 2
}