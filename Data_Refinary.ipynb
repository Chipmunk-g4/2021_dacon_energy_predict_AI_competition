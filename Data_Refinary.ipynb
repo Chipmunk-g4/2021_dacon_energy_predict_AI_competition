{
 "metadata": {
  "language_info": {
   "codemirror_mode": {
    "name": "ipython",
    "version": 3
   },
   "file_extension": ".py",
   "mimetype": "text/x-python",
   "name": "python",
   "nbconvert_exporter": "python",
   "pygments_lexer": "ipython3",
   "version": "3.9.1"
  },
  "orig_nbformat": 2,
  "kernelspec": {
   "name": "python391jvsc74a57bd02625b230b0936c03a7a859dabe4a10a429313c958b60e79e367b6eadd1f82f0b",
   "display_name": "Python 3.9.1 64-bit ('torch1': conda)"
  }
 },
 "nbformat": 4,
 "nbformat_minor": 2,
 "cells": [
  {
   "cell_type": "code",
   "execution_count": 1,
   "metadata": {},
   "outputs": [],
   "source": [
    "import copy\n",
    "from pathlib import Path\n",
    "import warnings\n",
    "\n",
    "import numpy as np\n",
    "import pandas as pd\n",
    "import pytorch_lightning as pl\n",
    "from pytorch_lightning.callbacks import EarlyStopping, LearningRateMonitor\n",
    "from pytorch_lightning.loggers import TensorBoardLogger\n",
    "import torch\n",
    "\n",
    "from pytorch_forecasting import Baseline, TemporalFusionTransformer, TimeSeriesDataSet\n",
    "from pytorch_forecasting.data import GroupNormalizer\n",
    "from pytorch_forecasting.metrics import SMAPE, PoissonLoss, QuantileLoss\n",
    "from pytorch_forecasting.models.temporal_fusion_transformer.tuning import optimize_hyperparameters"
   ]
  },
  {
   "cell_type": "code",
   "execution_count": 2,
   "metadata": {},
   "outputs": [],
   "source": [
    "data_path = \"./data/train.csv\"\n",
    "\n",
    "group = [\n",
    "    [34, 40, 42, 41, 4, 10, 11, 12],\n",
    "    [35, 6, 48, 27, 57, 8, 25, 56, 26, 55, 47, 13, 53, 18, 7, 17, 46],\n",
    "    [31, 33, 9, 3, 1, 32],\n",
    "    [29, 38, 43, 58, 15, 22, 39, 54, 23, 44, 45, 37, 52, 2, 14],\n",
    "    [21, 19, 50, 49, 20, 51, 30, 36, 28, 59, 5, 60, 16, 24]\n",
    "]\n",
    "group_name = [\"A\", \"B\", \"C\", \"D\", \"E\"]\n",
    "\n",
    "data = pd.read_csv(data_path, parse_dates = [\"date_time\"])\n",
    "\n",
    "data[\"time_idx\"] = 0\n",
    "data[\"month\"] = 0\n",
    "data[\"energy_group\"] = 0\n",
    "data[\"Week\"] = 0\n",
    "data[\"24Hour\"] = 0\n",
    "\n",
    "data.loc[data[\"num\"].isin(group[0]), \"energy_group\"] = str(1)\n",
    "data.loc[data[\"num\"].isin(group[1]), \"energy_group\"] = str(2)\n",
    "data.loc[data[\"num\"].isin(group[2]), \"energy_group\"] = str(3)\n",
    "data.loc[data[\"num\"].isin(group[3]), \"energy_group\"] = str(4)\n",
    "data.loc[data[\"num\"].isin(group[4]), \"energy_group\"] = str(5)\n",
    "\n",
    "data.loc[data[\"date_time\"].dt.month == 6, 'month'] = 0\n",
    "data.loc[data[\"date_time\"].dt.month == 7, 'month'] = 30\n",
    "data.loc[data[\"date_time\"].dt.month == 8, 'month'] = 61\n",
    "\n",
    "data[\"time_idx\"] = data[\"date_time\"].dt.hour + data[\"date_time\"].dt.day * (24) + data[\"month\"] * 24\n",
    "data[\"time_idx\"] = data[\"time_idx\"] - min(data[\"time_idx\"])\n",
    "\n",
    "data[\"Week\"] = (data[\"date_time\"].dt.day + data[\"month\"]) % 7\n",
    "data[\"24Hour\"] = data[\"date_time\"].dt.hour\n",
    "\n",
    "data = data.drop(\"month\",axis='columns')\n",
    "\n",
    "data.rename(columns = {'전력사용량(kWh)' : 'kWH', '기온(°C)' : 'C', '풍속(m/s)' : 'm/s', '습도(%)' : 'wet', '강수량(mm)' : 'mm','일조(hr)' : 'hr', '비전기냉방설비운영' : \"non_electric_aircondition\", \"태양광보유\" : \"sunlight\"}, inplace = True)\n",
    "\n",
    "data = data.astype({'non_electric_aircondition' : int, 'sunlight' : int})\n",
    "data['num'] = data['num'].apply(str)\n",
    "data['Week'] = data['Week'].apply(str)\n",
    "data['24Hour'] = data['24Hour'].apply(str)\n",
    "\n",
    "# data = data.round(6)\n",
    "\n",
    "data_bag = [\n",
    "    data.loc[data[\"energy_group\"] == \"1\"].copy(),\n",
    "    data.loc[data[\"energy_group\"] == \"2\"].copy(),\n",
    "    data.loc[data[\"energy_group\"] == \"3\"].copy(),\n",
    "    data.loc[data[\"energy_group\"] == \"4\"].copy(),\n",
    "    data.loc[data[\"energy_group\"] == \"5\"].copy()\n",
    "]\n",
    "\n",
    "for i in range(len(data_bag)):\n",
    "    data_bag[i].to_csv(f\"Refined_Data/Grouped_Data/{group_name[i]}.csv\", mode='w')"
   ]
  },
  {
   "cell_type": "code",
   "execution_count": 3,
   "metadata": {},
   "outputs": [
    {
     "output_type": "stream",
     "name": "stdout",
     "text": [
      "      num            date_time      kWH     C  m/s   wet   mm   hr  \\\n6120    4  2020-06-01 00:00:00  339.552  22.6  0.7  62.0  0.0  0.0   \n6121    4  2020-06-01 01:00:00  387.504  21.7  1.7  67.0  0.0  0.0   \n6122    4  2020-06-01 02:00:00  203.472  21.4  2.0  69.0  0.0  0.0   \n6123    4  2020-06-01 03:00:00  186.192  20.9  1.7  71.0  0.0  0.0   \n6124    4  2020-06-01 04:00:00  185.760  20.7  1.8  73.0  0.0  0.0   \n\n      non_electric_aircondition  sunlight  time_idx  energy_group  Week  \\\n6120                          1         1         0             1     1   \n6121                          1         1         1             1     1   \n6122                          1         1         2             1     1   \n6123                          1         1         3             1     1   \n6124                          1         1         4             1     1   \n\n      24Hour  \n6120       0  \n6121       1  \n6122       2  \n6123       3  \n6124       4  \n       num            date_time     kWH     C  m/s    wet   mm   hr  \\\n10200    6  2020-06-01 00:00:00  527.58  17.0  2.0  100.0  1.1  0.0   \n10201    6  2020-06-01 01:00:00  518.94  17.2  2.3   99.0  0.1  0.0   \n10202    6  2020-06-01 02:00:00  511.38  17.2  3.7   98.0  0.0  0.0   \n10203    6  2020-06-01 03:00:00  514.62  16.7  3.1   99.0  0.0  0.0   \n10204    6  2020-06-01 04:00:00  503.82  16.9  3.5   98.0  0.0  0.0   \n\n       non_electric_aircondition  sunlight  time_idx  energy_group  Week  \\\n10200                          0         0         0             2     1   \n10201                          0         0         1             2     1   \n10202                          0         0         2             2     1   \n10203                          0         0         3             2     1   \n10204                          0         0         4             2     1   \n\n       24Hour  \n10200       0  \n10201       1  \n10202       2  \n10203       3  \n10204       4  \n   num            date_time       kWH     C  m/s   wet   mm   hr  \\\n0    1  2020-06-01 00:00:00  8179.056  17.6  2.5  92.0  0.8  0.0   \n1    1  2020-06-01 01:00:00  8135.640  17.7  2.9  91.0  0.3  0.0   \n2    1  2020-06-01 02:00:00  8107.128  17.5  3.2  91.0  0.0  0.0   \n3    1  2020-06-01 03:00:00  8048.808  17.1  3.2  91.0  0.0  0.0   \n4    1  2020-06-01 04:00:00  8043.624  17.0  3.3  92.0  0.0  0.0   \n\n   non_electric_aircondition  sunlight  time_idx  energy_group  Week  24Hour  \n0                          0         0         0             3     1       0  \n1                          0         0         1             3     1       1  \n2                          0         0         2             3     1       2  \n3                          0         0         3             3     1       3  \n4                          0         0         4             3     1       4  \n      num            date_time      kWH     C  m/s   wet   mm   hr  \\\n2040    2  2020-06-01 00:00:00  977.184  18.3  2.5  94.0  0.0  0.0   \n2041    2  2020-06-01 01:00:00  966.168  18.8  2.3  89.0  0.0  0.0   \n2042    2  2020-06-01 02:00:00  972.972  19.0  3.2  86.0  0.0  0.0   \n2043    2  2020-06-01 03:00:00  965.844  19.0  4.1  85.0  0.0  0.0   \n2044    2  2020-06-01 04:00:00  971.676  18.9  3.9  87.0  0.0  0.0   \n\n      non_electric_aircondition  sunlight  time_idx  energy_group  Week  \\\n2040                          1         0         0             4     1   \n2041                          1         0         1             4     1   \n2042                          1         0         2             4     1   \n2043                          1         0         3             4     1   \n2044                          1         0         4             4     1   \n\n      24Hour  \n2040       0  \n2041       1  \n2042       2  \n2043       3  \n2044       4  \n      num            date_time       kWH     C  m/s   wet   mm   hr  \\\n8160    5  2020-06-01 00:00:00  3063.744  18.3  2.5  94.0  0.0  0.0   \n8161    5  2020-06-01 01:00:00  3147.120  18.8  2.3  89.0  0.0  0.0   \n8162    5  2020-06-01 02:00:00  3098.736  19.0  3.2  86.0  0.0  0.0   \n8163    5  2020-06-01 03:00:00  3047.760  19.0  4.1  85.0  0.0  0.0   \n8164    5  2020-06-01 04:00:00  3111.696  18.9  3.9  87.0  0.0  0.0   \n\n      non_electric_aircondition  sunlight  time_idx  energy_group  Week  \\\n8160                          1         0         0             5     1   \n8161                          1         0         1             5     1   \n8162                          1         0         2             5     1   \n8163                          1         0         3             5     1   \n8164                          1         0         4             5     1   \n\n      24Hour  \n8160       0  \n8161       1  \n8162       2  \n8163       3  \n8164       4  \n"
     ]
    }
   ],
   "source": [
    "for i in range(len(group_name)):\n",
    "    dataset = pd.read_csv(f\"Refined_Data/Grouped_Data/{group_name[i]}.csv\", index_col=0)\n",
    "    print(dataset.head())"
   ]
  }
 ]
}