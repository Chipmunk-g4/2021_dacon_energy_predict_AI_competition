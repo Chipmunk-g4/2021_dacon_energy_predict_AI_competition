{
 "cells": [
  {
   "cell_type": "code",
   "execution_count": 1,
   "metadata": {},
   "outputs": [],
   "source": [
    "import copy\n",
    "from pathlib import Path\n",
    "import warnings\n",
    "\n",
    "import numpy as np\n",
    "import pandas as pd\n",
    "import pytorch_lightning as pl\n",
    "from pytorch_lightning.callbacks import EarlyStopping, LearningRateMonitor\n",
    "from pytorch_lightning.loggers import TensorBoardLogger\n",
    "import math\n",
    "\n",
    "from pytorch_forecasting import Baseline, TemporalFusionTransformer, TimeSeriesDataSet\n",
    "from pytorch_forecasting.data import GroupNormalizer\n",
    "from pytorch_forecasting.metrics import SMAPE, PoissonLoss, QuantileLoss\n",
    "from pytorch_forecasting.models.temporal_fusion_transformer.tuning import optimize_hyperparameters"
   ]
  },
  {
   "cell_type": "code",
   "execution_count": 2,
   "metadata": {},
   "outputs": [],
   "source": [
    "# Group 2\n",
    "\n",
    "group_name = [\n",
    "    \"A1\", \"A2\", \"A3\", \"A4\", \"A5\", \"A6\", \"A7\",\n",
    "    \"B1\", \"B2\", \"B3\", \"B4\", \"B5\",\n",
    "    \"C1\", \"C2\", \"C3\", \"C4\", \n",
    "    \"D1\", \"D2\", \"D3\", \"D4\", \"D5\", \"D6\", \n",
    "    \"E1\", \"E2\", \"E3\", \"E4\", \"E5\"\n",
    "]\n",
    "\n",
    "group = [\n",
    "    [4],[11, 12],[34],[40],[10],[42],[41]\n",
    "    ,[6, 8, 13, 17, 26, 48, 53, 55, 56],[7, 18],[27, 57],[35, 46, 47],[25]\n",
    "    ,[1, 31],[9, 32],[3],[33]\n",
    "    ,[2, 14, 22, 37, 44, 52, 54],[15],[38, 58, 43],[29, 39],[45],[23]\n",
    "    ,[5],[16, 24],[19, 20, 21, 49, 50, 51],[28, 30, 36, 60],[59]\n",
    "]\n",
    "\n",
    "data_path = \"./Refined_Data/Test_Data/test_complete.csv\"\n",
    "save_path = \"./Refined_Data/Test_Data/test_refined2.csv\"\n",
    "\n",
    "# Group 3\n",
    "\n",
    "# group_name = [\n",
    "#     \"A1\", \"A2\", \"A3\", \"A4\", \"A5\", \"A6\", \"A7\",\n",
    "#     \"B1\", \"B2\", \"B3\", \"B4\", \"B5\",\n",
    "#     \"C1\", \"C2\", \"C3\", \"C4\", \n",
    "#     \"D1\", \"D2\", \"D3\", \"D4\", \"D5\", \"D6\", \n",
    "#     \"E1\", \"E2\", \"E3\", \"E4\", \"E5\", \"E6\"\n",
    "# ]\n",
    "\n",
    "# group = [\n",
    "#     [4],[11, 12],[34],[40],[10],[42],[41]\n",
    "#     ,[6, 8, 13, 17, 26, 48, 53, 55, 56],[7, 18],[27, 57],[35, 46, 47],[25]\n",
    "#     ,[1, 31],[9, 32],[3],[33]\n",
    "#     ,[2, 14, 22, 37, 44, 52, 54],[15],[38, 58, 43],[29, 39],[45],[23]\n",
    "#     ,[5],[16, 24],[19, 20, 21, 49, 50, 51],[28, 36, 60],[59], [30]\n",
    "# ]\n",
    "\n",
    "# data_path = \"./Refined_Data/Test_Data/test_complete.csv\"\n",
    "# save_path = \"./Refined_Data/Test_Data/test_refined3.csv\""
   ]
  },
  {
   "cell_type": "code",
   "execution_count": 3,
   "metadata": {},
   "outputs": [],
   "source": [
    "def get_pow(series):\n",
    "    return math.pow(series, 0.16)"
   ]
  },
  {
   "cell_type": "code",
   "execution_count": 4,
   "metadata": {},
   "outputs": [],
   "source": [
    "data = pd.read_csv(data_path, parse_dates = [\"date_time\"])\n",
    "\n",
    "data['energy_group'] = 0\n",
    "\n",
    "for i in range(len(group)):\n",
    "    data.loc[data[\"num\"].isin(group[i]), \"energy_group\"] = str(i)\n",
    "\n",
    "data['num'] = data['num'].apply(str)\n",
    "data['Week'] = data['Week'].apply(str)\n",
    "data['24Hour'] = data['24Hour'].apply(str)\n",
    "data['holiday'] = data['holiday'].apply(str)\n",
    "data['Weekend'] = data['Weekend'].apply(str)\n",
    "\n",
    "data['perceived_temperature'] = 13.12 + 0.6215*data['C'] - 11.37*data['m/s'].apply(get_pow) + 0.3965*data['m/s'].apply(get_pow)*data['C']\n",
    "data['discomfort_index'] = (1.8 * data['C']) - 0.55 * (1 - (data['wet'] * 0.01)) * (1.8 * data['C'] - 26) + 32\n",
    "\n",
    "data.to_csv(save_path, mode='w')"
   ]
  }
 ],
 "metadata": {
  "kernelspec": {
   "name": "python391jvsc74a57bd02625b230b0936c03a7a859dabe4a10a429313c958b60e79e367b6eadd1f82f0b",
   "display_name": "Python 3.9.1 64-bit ('torch1': conda)"
  },
  "language_info": {
   "codemirror_mode": {
    "name": "ipython",
    "version": 3
   },
   "file_extension": ".py",
   "mimetype": "text/x-python",
   "name": "python",
   "nbconvert_exporter": "python",
   "pygments_lexer": "ipython3",
   "version": "3.9.1"
  },
  "orig_nbformat": 2
 },
 "nbformat": 4,
 "nbformat_minor": 2
}