{
 "cells": [
  {
   "cell_type": "code",
   "execution_count": 1,
   "metadata": {},
   "outputs": [],
   "source": [
    "import copy\n",
    "from pathlib import Path\n",
    "import warnings\n",
    "\n",
    "import numpy as np\n",
    "import pandas as pd\n",
    "import pytorch_lightning as pl\n",
    "from pytorch_lightning.callbacks import EarlyStopping, LearningRateMonitor\n",
    "from pytorch_lightning.loggers import TensorBoardLogger\n",
    "import math\n",
    "\n",
    "from pytorch_forecasting import Baseline, TemporalFusionTransformer, TimeSeriesDataSet\n",
    "from pytorch_forecasting.data import GroupNormalizer\n",
    "from pytorch_forecasting.metrics import SMAPE, PoissonLoss, QuantileLoss\n",
    "from pytorch_forecasting.models.temporal_fusion_transformer.tuning import optimize_hyperparameters"
   ]
  },
  {
   "cell_type": "code",
   "execution_count": 2,
   "metadata": {},
   "outputs": [],
   "source": [
    "group_name = [\n",
    "    \"A1\", \"A2\", \"A3\", \"A4\", \"A5\", \"A6\", \"A7\",\n",
    "    \"B1\", \"B2\", \"B3\", \"B4\", \"B5\",\n",
    "    \"C1\", \"C2\", \"C3\", \"C4\", \n",
    "    \"D1\", \"D2\", \"D3\", \"D4\", \"D5\", \"D6\", \n",
    "    \"E1\", \"E2\", \"E3\", \"E4\", \"E5\", \"E6\"\n",
    "]\n",
    "\n",
    "group = [\n",
    "    [4],[11, 12],[34],[40],[10],[42],[41]\n",
    "    ,[6, 8, 13, 17, 26, 48, 53, 55, 56],[7, 18],[27, 57],[35, 46, 47],[25]\n",
    "    ,[1, 31],[9, 32],[3],[33]\n",
    "    ,[2, 14, 22, 37, 44, 52, 54],[15],[38, 58, 43],[29, 39],[45],[23]\n",
    "    ,[5],[16, 24],[19, 20, 21, 49, 50, 51],[28, 36, 60],[59], [30]\n",
    "]\n",
    "\n",
    "save_path = \"./Refined_Data/Grouped_Data/Input_Data2.csv\""
   ]
  },
  {
   "cell_type": "code",
   "execution_count": 3,
   "metadata": {},
   "outputs": [],
   "source": [
    "def get_pow(series):\n",
    "    return math.pow(series, 0.16)"
   ]
  },
  {
   "cell_type": "code",
   "execution_count": 4,
   "metadata": {},
   "outputs": [
    {
     "output_type": "stream",
     "name": "stderr",
     "text": [
      "<ipython-input-4-6bb1513c67b5>:29: FutureWarning: Series.dt.weekofyear and Series.dt.week have been deprecated.  Please use Series.dt.isocalendar().week instead.\n  data[\"Week\"] = data[\"date_time\"].dt.week - 23\n"
     ]
    }
   ],
   "source": [
    "data_path = \"./data/train.csv\"\n",
    "\n",
    "data = pd.read_csv(data_path, parse_dates = [\"date_time\"])\n",
    "\n",
    "data[\"time_idx\"] = 0\n",
    "data[\"month\"] = 0\n",
    "data[\"energy_group\"] = 0\n",
    "data[\"Week\"] = 0\n",
    "data[\"day_of_Week\"] = 0\n",
    "data[\"day_of_month\"] = 0\n",
    "data[\"day\"] = 0\n",
    "data[\"24Hour\"] = 0\n",
    "data[\"holiday\"] = 0\n",
    "data[\"Weekend\"] = 0\n",
    "data[\"hour_cat\"] = 0\n",
    "\n",
    "for i in range(len(group)):\n",
    "    data.loc[data[\"num\"].isin(group[i]), \"energy_group\"] = str(i)\n",
    "\n",
    "data.loc[data[\"date_time\"].dt.month == 6, 'month'] = 0\n",
    "data.loc[data[\"date_time\"].dt.month == 7, 'month'] = 30\n",
    "data.loc[data[\"date_time\"].dt.month == 8, 'month'] = 61\n",
    "\n",
    "data.loc[(data[\"date_time\"].dt.month == 8) & (data[\"date_time\"].dt.day == 17) , 'holiday'] = 1\n",
    "\n",
    "data[\"time_idx\"] = data[\"date_time\"].dt.hour + data[\"date_time\"].dt.day * (24) + data[\"month\"] * 24\n",
    "data[\"time_idx\"] = data[\"time_idx\"] - min(data[\"time_idx\"])\n",
    "\n",
    "data[\"Week\"] = data[\"date_time\"].dt.week - 23\n",
    "data[\"day_of_Week\"] = (data[\"date_time\"].dt.day + data[\"month\"]) % 7\n",
    "data[\"day_of_month\"] = data[\"date_time\"].dt.day\n",
    "data[\"day\"] = data[\"date_time\"].dt.day + data[\"month\"]\n",
    "data[\"24Hour\"] = data[\"date_time\"].dt.hour\n",
    "\n",
    "data.loc[data[\"day_of_Week\"] == 6, 'Weekend'] = 1\n",
    "data.loc[data[\"day_of_Week\"] == 0, 'Weekend'] = 1\n",
    "\n",
    "# 하루 일과 분류\n",
    "# 취침 (평일 0 ~ 6, 주말 1 ~ 9)))\n",
    "data.loc[(data[\"Weekend\"] == 0) & ((data[\"24Hour\"] == 0) | (data[\"24Hour\"] == 1) | (data[\"24Hour\"] == 2) | (data[\"24Hour\"] == 3) | (data[\"24Hour\"] == 4) | (data[\"24Hour\"] == 5) | (data[\"24Hour\"] == 6)) , 'hour_cat'] = 0\n",
    "data.loc[(data[\"Weekend\"] == 1) & ((data[\"24Hour\"] == 1) | (data[\"24Hour\"] == 2) | (data[\"24Hour\"] == 3) | (data[\"24Hour\"] == 4) | (data[\"24Hour\"] == 5) | (data[\"24Hour\"] == 6) | (data[\"24Hour\"] == 7) | (data[\"24Hour\"] == 8) | (data[\"24Hour\"] == 9)) , 'hour_cat'] = 0\n",
    "# 준비 (평일 7 ~ 8)\n",
    "data.loc[(data[\"Weekend\"] == 0) & ((data[\"24Hour\"] == 7) | (data[\"24Hour\"] == 8)) , 'hour_cat'] = 1\n",
    "# 일과 (평일 9 ~ 11, 14 ~ 17)\n",
    "data.loc[(data[\"Weekend\"] == 0) & ((data[\"24Hour\"] == 9) | (data[\"24Hour\"] == 10) | (data[\"24Hour\"] == 11) | (data[\"24Hour\"] == 14) | (data[\"24Hour\"] == 15) | (data[\"24Hour\"] == 16) | (data[\"24Hour\"] == 17)) , 'hour_cat'] = 2\n",
    "# 식사 (평일 주말 12, 13, 18, 19))\n",
    "data.loc[(data[\"Weekend\"] == 0) & ((data[\"24Hour\"] == 12) | (data[\"24Hour\"] == 13) | (data[\"24Hour\"] == 18) | (data[\"24Hour\"] == 19)), 'hour_cat'] = 3\n",
    "data.loc[(data[\"Weekend\"] == 1) & ((data[\"24Hour\"] == 12) | (data[\"24Hour\"] == 13) | (data[\"24Hour\"] == 18) | (data[\"24Hour\"] == 19)), 'hour_cat'] = 3\n",
    "# 여가 (평일 20 ~ 22, 주말 10 ~ 11, 14 ~ 17, 20 ~ 22)\n",
    "data.loc[(data[\"Weekend\"] == 0) & ((data[\"24Hour\"] == 20) | (data[\"24Hour\"] == 21) | (data[\"24Hour\"] == 22)), 'hour_cat'] = 4\n",
    "data.loc[(data[\"Weekend\"] == 1) & ((data[\"24Hour\"] == 10) | (data[\"24Hour\"] == 11) | (data[\"24Hour\"] == 14) | (data[\"24Hour\"] == 15) | (data[\"24Hour\"] == 16) | (data[\"24Hour\"] == 17) | (data[\"24Hour\"] == 20) | (data[\"24Hour\"] == 21) | (data[\"24Hour\"] == 22)), 'hour_cat'] = 4\n",
    "# 휴식 (평일 23 주말 0, 23) => 취침\n",
    "data.loc[(data[\"Weekend\"] == 0) & ((data[\"24Hour\"] == 23)) , 'hour_cat'] = 0\n",
    "data.loc[(data[\"Weekend\"] == 1) & ((data[\"24Hour\"] == 0) | (data[\"24Hour\"] == 23)) , 'hour_cat'] = 0\n",
    "\n",
    "data = data.drop(\"month\",axis='columns')\n",
    "\n",
    "data.rename(columns = {'전력사용량(kWh)' : 'kWH', '기온(°C)' : 'C', '풍속(m/s)' : 'm/s', '습도(%)' : 'wet', '강수량(mm)' : 'mm','일조(hr)' : 'hr', '비전기냉방설비운영' : \"non_electric_aircondition\", \"태양광보유\" : \"sunlight\"}, inplace = True)\n",
    "\n",
    "# 체감 온도, 불쾌 지수\n",
    "data['perceived_temperature'] = 13.12 + 0.6215*data['C'] - 11.37*data['m/s'].apply(get_pow) + 0.3965*data['m/s'].apply(get_pow)*data['C']\n",
    "data['discomfort_index'] = (1.8 * data['C']) - 0.55 * (1 - (data['wet'] * 0.01)) * (1.8 * data['C'] - 26) + 32\n",
    "\n",
    "data = data.astype({'non_electric_aircondition' : int, 'sunlight' : int})\n",
    "data['num'] = data['num'].apply(str)\n",
    "data['Week'] = data['Week'].apply(str)\n",
    "data['24Hour'] = data['24Hour'].apply(str)\n",
    "data['holiday'] = data['holiday'].apply(str)\n",
    "data['Weekend'] = data['Weekend'].apply(str)\n",
    "\n",
    "data.to_csv(save_path, mode='w')"
   ]
  }
 ],
 "metadata": {
  "kernelspec": {
   "name": "python391jvsc74a57bd02625b230b0936c03a7a859dabe4a10a429313c958b60e79e367b6eadd1f82f0b",
   "display_name": "Python 3.9.1 64-bit ('torch1': conda)"
  },
  "language_info": {
   "codemirror_mode": {
    "name": "ipython",
    "version": 3
   },
   "file_extension": ".py",
   "mimetype": "text/x-python",
   "name": "python",
   "nbconvert_exporter": "python",
   "pygments_lexer": "ipython3",
   "version": "3.9.1"
  },
  "orig_nbformat": 2
 },
 "nbformat": 4,
 "nbformat_minor": 2
}